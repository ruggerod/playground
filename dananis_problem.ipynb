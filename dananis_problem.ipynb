{
 "cells": [
  {
   "cell_type": "code",
   "execution_count": 1,
   "metadata": {
    "collapsed": true
   },
   "outputs": [],
   "source": [
    "import numpy as np\n",
    "from scipy.misc import factorial\n",
    "from scipy.optimize import brentq\n",
    "import matplotlib.pyplot as plt"
   ]
  },
  {
   "cell_type": "markdown",
   "metadata": {},
   "source": [
    "# Problema\n",
    "\n",
    "Sia X un importo iniziale fissato. Qual è la successione $p_n$ (con $n = 0,..,N-1$) di interessi percentuali che permette di ottenere un importo Y partendo da X? \n",
    "\n",
    "Ovvero, trovare la successione che soddisfa la seguente equazione:\n",
    "\\begin{equation}\n",
    "\\prod_{n=0}^{N-1} (1+p_n) - \\frac{Y}{X} = 0 \n",
    "\\end{equation}"
   ]
  },
  {
   "cell_type": "markdown",
   "metadata": {},
   "source": [
    "## Costanti"
   ]
  },
  {
   "cell_type": "code",
   "execution_count": 20,
   "metadata": {
    "collapsed": true
   },
   "outputs": [],
   "source": [
    "X = 10.\n",
    "Y = 1000.\n",
    "N = 365\n",
    "alpha = -1. # float : slope of the power-law p_n = const * n^alpha"
   ]
  },
  {
   "cell_type": "markdown",
   "metadata": {},
   "source": [
    "## Calcolatore"
   ]
  },
  {
   "cell_type": "code",
   "execution_count": 21,
   "metadata": {},
   "outputs": [],
   "source": [
    "n = np.arange(1, N+1, 1) # integer progression n = 1,2,..,N\n",
    "\n",
    "def power_law(const, slope):\n",
    "    pn = np.ones(N) * const * n**slope # calculate p_n as p_n = const * n^slope\n",
    "    return np.prod(1. + pn) - Y/X \n",
    "\n",
    "p0 = brentq(power_law, 0., 1., args=(alpha)) # solve equation\n",
    "pn = np.ones(N) * p0 * n**alpha "
   ]
  },
  {
   "cell_type": "markdown",
   "metadata": {},
   "source": [
    "## Testa e mostra grafico"
   ]
  },
  {
   "cell_type": "code",
   "execution_count": 45,
   "metadata": {},
   "outputs": [
    {
     "name": "stdout",
     "output_type": "stream",
     "text": [
      "Dopo 365 giorni, si ottiene Y = 1000.00\n",
      "con una differenza di 3.18e-12 rispetto al valore iniziale.\n",
      "Si parte con un tasso del 76.66 percento\n",
      "e si arriva ad un tasso del 0.21 percento\n"
     ]
    }
   ],
   "source": [
    "print 'Dopo %i giorni, si ottiene Y = %.2f' % (N, X * np.prod(1. + pn))\n",
    "print 'con una differenza di %.2e rispetto al valore iniziale.' % (Y-X * np.prod(1. + pn))\n",
    "print 'Si parte con un tasso del %.2f percento' % (pn[0]*100)\n",
    "print 'e si arriva ad un tasso del %.2f percento' % (pn[-1]*100)"
   ]
  },
  {
   "cell_type": "code",
   "execution_count": 42,
   "metadata": {},
   "outputs": [
    {
     "data": {
      "image/png": "[encoded data removed]",
      "text/plain": [
       "<matplotlib.figure.Figure at 0x1812034e10>"
      ]
     },
     "metadata": {},
     "output_type": "display_data"
    }
   ],
   "source": [
    "plt.rcParams[\"figure.figsize\"] = (7,5)\n",
    "plt.rcParams[\"axes.labelsize\"] = 15\n",
    "plt.rcParams[\"xtick.labelsize\"] = 15\n",
    "plt.rcParams[\"ytick.labelsize\"] = 15\n",
    "fig, ax = plt.subplots()\n",
    "ax.set_ylabel(\"% interessi\")\n",
    "ax.set_xlabel(\"giorni\")\n",
    "ax.plot(n, pn*100.)\n",
    "plt.show()"
   ]
  },
  {
   "cell_type": "code",
   "execution_count": null,
   "metadata": {},
   "outputs": [],
   "source": []
  },
  {
   "cell_type": "code",
   "execution_count": null,
   "metadata": {},
   "outputs": [],
   "source": []
  },
  {
   "cell_type": "code",
   "execution_count": null,
   "metadata": {
    "collapsed": true
   },
   "outputs": [],
   "source": []
  }
 ],
 "metadata": {
  "kernelspec": {
   "display_name": "Python 2",
   "language": "python",
   "name": "python2"
  },
  "language_info": {
   "codemirror_mode": {
    "name": "ipython",
    "version": 2
   },
   "file_extension": ".py",
   "mimetype": "text/x-python",
   "name": "python",
   "nbconvert_exporter": "python",
   "pygments_lexer": "ipython2",
   "version": "2.7.12"
  }
 },
 "nbformat": 4,
 "nbformat_minor": 2
}
